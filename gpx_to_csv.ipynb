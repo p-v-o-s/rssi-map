{
 "cells": [
  {
   "cell_type": "markdown",
   "metadata": {},
   "source": [
    "# GPX file --> CSV"
   ]
  },
  {
   "cell_type": "code",
   "execution_count": 3,
   "metadata": {
    "collapsed": true
   },
   "outputs": [],
   "source": [
    "from xml.dom.minidom import parseString"
   ]
  },
  {
   "cell_type": "code",
   "execution_count": 4,
   "metadata": {
    "collapsed": true
   },
   "outputs": [],
   "source": [
    "fname = './data/DHO_cwv.gpx'\n",
    "doc = open(fname).read()\n",
    "dom = parseString(doc)"
   ]
  },
  {
   "cell_type": "markdown",
   "metadata": {},
   "source": [
    "After looking a the file, it is apparent that all the interesting information is wrapped in  `<trkpt>` tags"
   ]
  },
  {
   "cell_type": "code",
   "execution_count": 5,
   "metadata": {
    "collapsed": false
   },
   "outputs": [
    {
     "name": "stdout",
     "output_type": "stream",
     "text": [
      "801\n"
     ]
    }
   ],
   "source": [
    "pts = dom.getElementsByTagName('trkpt'); print(len(pts))"
   ]
  },
  {
   "cell_type": "markdown",
   "metadata": {},
   "source": [
    "To prototype the conversion to Python numerical types, let's look at an example:\n",
    "```xml\n",
    "<trkpt lat=\"43.15733\" lon=\"-70.976616\"><ele>48.8</ele><extensions><x:speed>0.0</x:speed></extensions><time>2016-02-28T18:21:04.000Z</time></trkpt>\n",
    "```"
   ]
  },
  {
   "cell_type": "code",
   "execution_count": 6,
   "metadata": {
    "collapsed": false
   },
   "outputs": [
    {
     "name": "stdout",
     "output_type": "stream",
     "text": [
      "43.15733 -70.976616 48.8 0.0\n",
      "2016-02-28T18:21:04.000Z\n"
     ]
    }
   ],
   "source": [
    "pt0 = pts[0]\n",
    "lat = float(pt0.attributes['lat'].value) #the value a named attribute of <trkpt>\n",
    "lon = float(pt0.attributes['lon'].value) #the value a named attribute of <trkpt>\n",
    "ele = float(pt0.getElementsByTagName(\"ele\")[0].firstChild.data)  #the value in a Text node the first and only child in this tag\n",
    "speed = float(pt0.getElementsByTagName(\"x:speed\")[0].firstChild.data)\n",
    "time_str = pt0.getElementsByTagName(\"time\")[0].firstChild.data\n",
    "print(lat,lon,ele, speed); print(time_str)"
   ]
  },
  {
   "cell_type": "markdown",
   "metadata": {},
   "source": [
    "Now we should convert that pesky time string into a nice simple Unix Epoch time, lets check out the `strptime` of `datetime` objects, see this [doc link](https://docs.python.org/2/library/datetime.html#strftime-strptime-behavior)\n"
   ]
  },
  {
   "cell_type": "code",
   "execution_count": 7,
   "metadata": {
    "collapsed": false
   },
   "outputs": [
    {
     "name": "stdout",
     "output_type": "stream",
     "text": [
      "datetime.datetime(2016, 2, 28, 18, 21, 4)\n",
      "1456701664\n"
     ]
    }
   ],
   "source": [
    "from datetime import datetime \n",
    "dt = datetime.strptime(time_str, \"%Y-%m-%dT%H:%M:%S.%fZ\")\n",
    "print(repr(dt))\n",
    "ts = dt.strftime(\"%s\")\n",
    "print(ts)"
   ]
  },
  {
   "cell_type": "markdown",
   "metadata": {},
   "source": [
    "Let's throw all these components into a big loop that generates the CSV output directly, here's the whole program:"
   ]
  },
  {
   "cell_type": "code",
   "execution_count": 8,
   "metadata": {
    "collapsed": false
   },
   "outputs": [],
   "source": [
    "from xml.dom.minidom import parseString\n",
    "from datetime import datetime \n",
    "import os\n",
    "\n",
    "\n",
    "fname = './data/DHO_cwv.gpx'\n",
    "doc = open(fname).read()\n",
    "dom = parseString(doc)\n",
    "\n",
    "pts = dom.getElementsByTagName('trkpt')\n",
    "\n",
    "csv_lines = []\n",
    "for pt in pts:\n",
    "    line = []\n",
    "    #timestamp\n",
    "    time_str = pt.getElementsByTagName(\"time\")[0].firstChild.data\n",
    "    dt = datetime.strptime(time_str, \"%Y-%m-%dT%H:%M:%S.%fZ\")\n",
    "    line.append(dt.strftime(\"%s\"))\n",
    "    #lattitude\n",
    "    line.append(pt.attributes['lat'].value)\n",
    "    #longitude\n",
    "    line.append(pt.attributes['lon'].value)\n",
    "    #elevation\n",
    "    line.append(pt.getElementsByTagName(\"ele\")[0].firstChild.data)\n",
    "    #speed\n",
    "    line.append(pt.getElementsByTagName(\"x:speed\")[0].firstChild.data)\n",
    "    #format and append line\n",
    "    csv_lines.append(\",\".join(line))\n",
    "    \n",
    "#finish up by smashing all the lines together\n",
    "csv_string = \"\\n\".join(csv_lines)\n",
    "\n",
    "#save the data in a suitably named file\n",
    "base, ext = os.path.splitext(fname)\n",
    "outfile = open(\"%s.csv\" % base, 'w')\n",
    "outfile.write(csv_string)\n",
    "outfile.close()"
   ]
  }
 ],
 "metadata": {
  "kernelspec": {
   "display_name": "Python 3",
   "language": "python",
   "name": "python3"
  },
  "language_info": {
   "codemirror_mode": {
    "name": "ipython",
    "version": 3
   },
   "file_extension": ".py",
   "mimetype": "text/x-python",
   "name": "python",
   "nbconvert_exporter": "python",
   "pygments_lexer": "ipython3",
   "version": "3.5.1"
  }
 },
 "nbformat": 4,
 "nbformat_minor": 0
}
