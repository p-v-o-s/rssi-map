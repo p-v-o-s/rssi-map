{
 "cells": [
  {
   "cell_type": "markdown",
   "metadata": {},
   "source": [
    "# Overview\n",
    "\n",
    "This project involved logging sensor data to a file on a computer (in this case, remotely, via radio transmission) while simultaneously recording GPS location using a smartphone app.  Because GPS recording devices (like smartphones) are common, and generate KML or GPX files, the resultant problem may fairly common: how to combine the GPS data (logging at some rate) with the sensor data (logging at some other rate).\n",
    "\n",
    "Because we imagine that each part of this process might separately have useful application in various monitoring use-cases, we have broken our analysis into three main steps:\n",
    "\n",
    "## Converting a gpx file to csv\n",
    "\n",
    "The original gpx file, in XML format, can be converted to a simplified csv format that's easier to work with, using the format:\n",
    "\n",
    "```\n",
    " unix epoch, latitude, longitude, elevation, speed \n",
    "```\n",
    "\n",
    "We've done that in the notebook named [gpx_to_csv.ipynb](./gpx_to_csv.ipynb) .\n",
    "\n",
    "## Combining gps data with logging data\n",
    "\n",
    "The gps data (now in csv format, via the above transformation) can then be matched with the logging file by comparing timestamp information and finding the 'closest match'. \n",
    "\n",
    "We've done that in a notebook here: [timing_match.ipynb](./timing_match.ipynb) .\n",
    "\n",
    "## Plotting the combined file on a map\n",
    "\n",
    "Finally, the world-line of the logging data (in our case, the signal strength (RSSI) of a radio transmitter) can be embedded in a map.  \n",
    "\n",
    "We've used the Folium library to do that here:  [folium_plot.ipynb](./folium_plot.ipynb) .\n"
   ]
  },
  {
   "cell_type": "code",
   "execution_count": null,
   "metadata": {
    "collapsed": true
   },
   "outputs": [],
   "source": []
  }
 ],
 "metadata": {
  "kernelspec": {
   "display_name": "Python 3",
   "language": "python",
   "name": "python3"
  },
  "language_info": {
   "codemirror_mode": {
    "name": "ipython",
    "version": 3
   },
   "file_extension": ".py",
   "mimetype": "text/x-python",
   "name": "python",
   "nbconvert_exporter": "python",
   "pygments_lexer": "ipython3",
   "version": "3.5.1"
  }
 },
 "nbformat": 4,
 "nbformat_minor": 0
}
