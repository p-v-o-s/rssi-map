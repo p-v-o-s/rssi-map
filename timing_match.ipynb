{
 "cells": [
  {
   "cell_type": "markdown",
   "metadata": {},
   "source": [
    "# timing_match"
   ]
  },
  {
   "cell_type": "code",
   "execution_count": 49,
   "metadata": {
    "collapsed": false
   },
   "outputs": [],
   "source": [
    "import pandas as pd # nice data utilities\n",
    "import os\n",
    "import numpy as np"
   ]
  },
  {
   "cell_type": "markdown",
   "metadata": {},
   "source": [
    "Read in the csv file"
   ]
  },
  {
   "cell_type": "code",
   "execution_count": 50,
   "metadata": {
    "collapsed": true
   },
   "outputs": [],
   "source": [
    "fname = './data/DHO_cwv.gpx' #original gpx file\n",
    "base, ext = os.path.splitext(fname)\n",
    "read_filename=\"%s.csv\" % base\n",
    "gps=pd.read_table(read_filename, header=0,sep=',',names=['time','lat','lon','ele','x:speed']);"
   ]
  },
  {
   "cell_type": "markdown",
   "metadata": {},
   "source": [
    "Read in the radio logging file"
   ]
  },
  {
   "cell_type": "code",
   "execution_count": 51,
   "metadata": {
    "collapsed": true
   },
   "outputs": [],
   "source": [
    "q=pd.read_table('./data/log_1.csv', header=0,sep=',',names=['t','tm','s']);"
   ]
  },
  {
   "cell_type": "code",
   "execution_count": 52,
   "metadata": {
    "collapsed": false
   },
   "outputs": [],
   "source": [
    "# get the radio times\n",
    "tLog=[]\n",
    "for ts in q.t:\n",
    "    tLog.append(int(ts))"
   ]
  },
  {
   "cell_type": "code",
   "execution_count": 53,
   "metadata": {
    "collapsed": false
   },
   "outputs": [],
   "source": [
    "# extract arrays, just to match previous code -- can streamline later\n",
    "gps.time=gps.time-18000 #GPS has 5 hour time shift"
   ]
  },
  {
   "cell_type": "code",
   "execution_count": 54,
   "metadata": {
    "collapsed": false
   },
   "outputs": [],
   "source": [
    "# now go through and compare\n",
    "fl=[] # array of indices into tLog for the closest time to any given tGPS time\n",
    "mins=[]\n",
    "finalC=[]\n",
    "\n",
    "for i in range(0,len(gps.time)):\n",
    "    tG=gps.time[i]\n",
    "    la=gps.lat[i]\n",
    "    lo=gps.lon[i]\n",
    "    diffs=[]\n",
    "    # generate differences array\n",
    "    for j in range(0,len(tLog)):\n",
    "        diff=(tLog[j]-tG)**2\n",
    "        diffs.append(diff)\n",
    "    # find the minimum time difference\n",
    "    myd=np.asarray(diffs);\n",
    "    mind=min(diffs)\n",
    "    # if the minimum time difference == 0, then we had a signal\n",
    "    if (mind<2):\n",
    "        logIndex=np.where(myd == myd.min())[0][0] #index into the log file minim time\n",
    "        finalC.append((tG,la,lo,q.s[logIndex]))\n",
    "    else:\n",
    "        finalC.append((tG,la,lo,-1000)) # some really low signal level"
   ]
  },
  {
   "cell_type": "code",
   "execution_count": 55,
   "metadata": {
    "collapsed": false
   },
   "outputs": [],
   "source": [
    "csv_lines = []\n",
    "for event in finalC:\n",
    "    line = []\n",
    "    #timestamp\n",
    "    line.append(str(event[0])) \n",
    "    #lattitude\n",
    "    line.append(str(event[1]))\n",
    "    #longitude\n",
    "    line.append(str(event[2]))\n",
    "    #signal strength (RSSI)\n",
    "    line.append(str(event[3]))\n",
    "    #format and append line\n",
    "    csv_lines.append(\",\".join(line))\n",
    "    \n",
    "#finish up by smashing all the lines together\n",
    "csv_string = \"\\n\".join(csv_lines)\n",
    "\n",
    "#save the data in a suitably named file\n",
    "outfile = open(\"%s_combined.csv\" % base, 'w')\n",
    "outfile.write(csv_string)\n",
    "outfile.close()"
   ]
  },
  {
   "cell_type": "code",
   "execution_count": null,
   "metadata": {
    "collapsed": true
   },
   "outputs": [],
   "source": []
  }
 ],
 "metadata": {
  "kernelspec": {
   "display_name": "Python 3",
   "language": "python",
   "name": "python3"
  },
  "language_info": {
   "codemirror_mode": {
    "name": "ipython",
    "version": 3
   },
   "file_extension": ".py",
   "mimetype": "text/x-python",
   "name": "python",
   "nbconvert_exporter": "python",
   "pygments_lexer": "ipython3",
   "version": "3.5.1"
  }
 },
 "nbformat": 4,
 "nbformat_minor": 0
}
